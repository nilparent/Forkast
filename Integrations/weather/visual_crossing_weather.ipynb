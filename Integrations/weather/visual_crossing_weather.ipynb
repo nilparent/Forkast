{
 "cells": [
  {
   "cell_type": "code",
   "metadata": {
    "tags": [],
    "cell_id": "f985b0e2-053d-4be3-a89c-e0e2b68ae6b4",
    "deepnote_cell_type": "code",
    "deepnote_cell_height": 1506
   },
   "source": "import requests\nimport csv\nurl = \"https://visual-crossing-weather.p.rapidapi.com/history\"\nheaders = {\n    \"X-RapidAPI-Key\": \"ee378a2a33msh48cdc6439c87d2bp137f14jsn055b8a547637\",\n    \"X-RapidAPI-Host\": \"visual-crossing-weather.p.rapidapi.com\"\n}\n\ndef import_historical_weather_data(start_time, end_time, location):\n    querystring = {\n        \"startDateTime\": start_time,\n        \"aggregateHours\": \"24\",\n        \"location\": location,\n        \"endDateTime\": end_time,\n        \"unitGroup\": \"metric\",\n        \"dayStartTime\": \"8:00:00\",\n        \"contentType\": \"csv\",\n        \"dayEndTime\": \"17:00:00\",\n        \"shortColumnNames\": \"0\",\n    }\n    response = requests.request(\"GET\", url, headers=headers, params=querystring)\n    cr = csv.reader(response.content.decode(\"utf-8\").splitlines(), delimiter=\",\")\n    my_list = list(cr)\n    return my_list\n\ndef import_forecast_weather_data(location):\n    querystring = {\n        \"aggregateHours\": \"24\",\n        \"location\": location,\n        \"contentType\": \"csv\",\n        \"unitGroup\": \"metric\",\n        \"shortColumnNames\": \"0\",\n    }\n    response = requests.request(\"GET\", url, headers=headers, params=querystring)\n    cr = csv.reader(response.content.decode(\"utf-8\").splitlines(), delimiter=\",\")\n    my_list = list(cr)\n    return my_list\n\nprint(import_forecast_weather_data(\"Paris, France\"))\n\n#fonction pour importer autant de jours de weather qu'on veut\ndef historic_import(start_date, end_date):\n    compt = 0\n    weather_data = pd.DataFrame()\n    date =start_date\n    while date < end_date:\n        \n\n\n        weather_data=import_historical_weather_data(str(start_date)[:10]+\"T00:00:00\",str(end_date)[:10]+\"T00:00:00\",location)\n        weather_data=pd.DataFrame(weather_data[1:],columns=weather_data[0])\n        weather_data['Date time']= pd.to_datetime(weather_data['Date time'])\n        weather_data['Temperature']= weather_data['Temperature'].astype(float)\n        weather_data['Minimum Temperature']= weather_data['Minimum Temperature'].astype(float)\n        weather_data['Maximum Temperature']= weather_data['Maximum Temperature'].astype(float)\n        weather_data['Precipitation']= weather_data['Precipitation'].astype(float)\n        weather_data['Cloud Cover']= weather_data['Cloud Cover'].astype(float)\n        weather_data['Relative Humidity']= weather_data['Relative Humidity'].astype(float)\n        weather_data['Dew Point']= weather_data['Dew Point'].astype(float)\n\n    display(weather_data)\n    return weather_date\n\n\n#Rescale couverts_totaux to match the temperature\ndef rescale_couverts(couverts_journees)\n    mean1 = 0\n    for i in range(len(couverts_journees)):\n        mean1 += couverts_journees[i]\n    mean1 = mean1/len(couverts_journees)\n    print(mean1)\n\n    mean2 = 0\n    for i in range(len(weather_data['Maximum Temperature'])):\n        mean2 += weather_data['Maximum Temperature'][i]\n    mean2 = mean2/len(weather_data['Maximum Temperature'])\n    print(mean2)\n\n    couverts_journees = np.subtract(couverts_journees, [mean1-mean2]*len(couverts_journees))\n    return couverts_journees , mean1, mean2 \n",
   "execution_count": null,
   "outputs": []
  },
  {
   "cell_type": "markdown",
   "source": "<a style='text-decoration:none;line-height:16px;display:flex;color:#5B5B62;padding:10px;justify-content:end;' href='https://deepnote.com?utm_source=created-in-deepnote-cell&projectId=88711131-1c55-4014-84b0-9f87ac43bd4d' target=\"_blank\">\n<img alt='Created in deepnote.com' style='display:inline;max-height:16px;margin:0px;margin-right:7.5px;' src='data:image/svg+xml;base64,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' > </img>\nCreated in <span style='font-weight:600;margin-left:4px;'>Deepnote</span></a>",
   "metadata": {
    "tags": [],
    "created_in_deepnote_cell": true,
    "deepnote_cell_type": "markdown"
   }
  }
 ],
 "nbformat": 4,
 "nbformat_minor": 2,
 "metadata": {
  "orig_nbformat": 2,
  "deepnote": {},
  "deepnote_notebook_id": "68c499a8-95c2-47fb-9336-e613a4bb47ac",
  "deepnote_execution_queue": []
 }
}